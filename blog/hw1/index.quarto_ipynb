{
  "cells": [
    {
      "cell_type": "markdown",
      "metadata": {},
      "source": [
        "---\n",
        "title: Homework 1 - A/B Testing\n",
        "author: Jay Lee\n",
        "---\n",
        "\n",
        "# Question 1 "
      ],
      "id": "aad590af"
    },
    {
      "cell_type": "code",
      "metadata": {},
      "source": [
        "import pandas as pd\n",
        "\n",
        "df = pd.read_stata(\"karlan_list_2007.dta\")\n",
        "\n",
        "df.head()"
      ],
      "id": "5f84701e",
      "execution_count": null,
      "outputs": []
    }
  ],
  "metadata": {
    "kernelspec": {
      "display_name": "Python 3",
      "language": "python",
      "name": "python3"
    }
  },
  "nbformat": 4,
  "nbformat_minor": 5
}