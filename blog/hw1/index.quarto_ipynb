{
  "cells": [
    {
      "cell_type": "markdown",
      "metadata": {},
      "source": [
        "---\n",
        "title: Homework 1\n",
        "author: Jay Lee\n",
        "---\n",
        "\n",
        "# Question 1 \n",
        "\n",
        "Prof says make a chart\n"
      ],
      "id": "548c19bb"
    },
    {
      "cell_type": "code",
      "metadata": {},
      "source": [
        "x=5\n",
        "print(x)"
      ],
      "id": "65d41b48",
      "execution_count": null,
      "outputs": []
    }
  ],
  "metadata": {
    "kernelspec": {
      "display_name": "Python 3",
      "language": "python",
      "name": "python3"
    }
  },
  "nbformat": 4,
  "nbformat_minor": 5
}